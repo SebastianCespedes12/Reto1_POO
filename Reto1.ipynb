{
 "cells": [
  {
   "cell_type": "markdown",
   "metadata": {},
   "source": [
    ">1.Crear una función que realice operaciones básicas (suma, resta, multiplicación, división) entre dos números, según la elección del usuario, la forma de entrada de la función será los dos operandos y el caracter usado para la operación. entrada: (1,2,\"+\"), salida (3)."
   ]
  },
  {
   "cell_type": "code",
   "execution_count": null,
   "metadata": {},
   "outputs": [],
   "source": [
    "def operaciones(x:float, y:float, simb:str) -> float:\n",
    "    if simb == \"+\":\n",
    "        return x + y\n",
    "    elif simb == \"-\":\n",
    "        return x - y\n",
    "    elif simb == \"*\":\n",
    "        return x * y\n",
    "    elif simb == \"/\":\n",
    "        return x/y"
   ]
  },
  {
   "cell_type": "markdown",
   "metadata": {},
   "source": [
    ">2.Realice una función que permita validar si una palabra es un palíndromo. Condición: No se vale hacer slicing para invertir la palabra y verificar que sea igual a la original."
   ]
  },
  {
   "cell_type": "code",
   "execution_count": null,
   "metadata": {},
   "outputs": [],
   "source": [
    "def palindromo(palabra: str) -> bool:\n",
    "    longitud = len(palabra)\n",
    "    for i in range(longitud // 2):\n",
    "        if palabra[i] != palabra[longitud - 1 - i]:\n",
    "            return False\n",
    "    return True"
   ]
  },
  {
   "cell_type": "markdown",
   "metadata": {},
   "source": [
    ">3.Escribir una función que reciba una lista de números y devuelva solo aquellos que son primos. La función debe recibir una lista de enteros y retornar solo aquellos que sean primos."
   ]
  },
  {
   "cell_type": "code",
   "execution_count": null,
   "metadata": {},
   "outputs": [],
   "source": [
    "def reconocer_primo(lista: list):\n",
    "    lista_primos = []\n",
    "    for i in lista:\n",
    "        if i < 2:\n",
    "            continue\n",
    "        es_primo = True\n",
    "        for j in range(2, int(i ** 0.5) + 1):\n",
    "            if i % j == 0:\n",
    "                es_primo = False\n",
    "                break\n",
    "        if es_primo:\n",
    "            lista_primos.append(i)\n",
    "    return lista_primos"
   ]
  },
  {
   "cell_type": "markdown",
   "metadata": {},
   "source": [
    ">4.Escribir una función que reciba una lista de números enteros y retorne la mayor suma entre dos elementos consecutivos."
   ]
  },
  {
   "cell_type": "code",
   "execution_count": null,
   "metadata": {},
   "outputs": [],
   "source": [
    "def suma_consecutiva(lista):\n",
    "    sumas=[]\n",
    "    suma_alta = 0 \n",
    "    for i in range(len(lista)-1):\n",
    "        sum = lista[i] + lista[i+1]\n",
    "        sumas.append(sum)\n",
    "    for i in range(len(sumas)):\n",
    "        if sumas[i] > suma_alta:\n",
    "            suma_alta = sumas[i]\n",
    "    return suma_alta"
   ]
  },
  {
   "cell_type": "markdown",
   "metadata": {},
   "source": [
    ">5.Escribir una función que reciba una lista de string y retorne unicamente aquellos elementos que tengan los mismos caracteres. e.g. entrada: [\"amor\", \"roma\", \"perro\"], salida [\"amor\", \"roma\"]"
   ]
  },
  {
   "cell_type": "code",
   "execution_count": null,
   "metadata": {},
   "outputs": [],
   "source": [
    "def mismos_caracteres(lista:list):\n",
    "    todas_palabras = {}\n",
    "    lista_final = []\n",
    "    for i in lista:\n",
    "        todas_palabras[f\"{i}\"] = []\n",
    "        for j in range(97,123):\n",
    "            if i.count(chr(j)) > 0:                                \n",
    "                todas_palabras[f\"{i}\"].append(f\"{i.count(chr(j))} , {chr(j)}\")\n",
    "    for i in  todas_palabras.items():\n",
    "        for j in todas_palabras.items():\n",
    "            if i[0] != j[0] and i[1] == j[1] and i[0] not in lista_final:\n",
    "                lista_final.extend([i[0]])\n",
    "    return lista_final"
   ]
  }
 ],
 "metadata": {
  "kernelspec": {
   "display_name": "Python 3",
   "language": "python",
   "name": "python3"
  },
  "language_info": {
   "codemirror_mode": {
    "name": "ipython",
    "version": 3
   },
   "file_extension": ".py",
   "mimetype": "text/x-python",
   "name": "python",
   "nbconvert_exporter": "python",
   "pygments_lexer": "ipython3",
   "version": "3.11.9"
  }
 },
 "nbformat": 4,
 "nbformat_minor": 2
}
